{
  "cells": [
    {
      "cell_type": "code",
      "execution_count": 10,
      "id": "098b2971-5d7a-4d7f-aec2-3400a31a72b0",
      "metadata": {
        "id": "098b2971-5d7a-4d7f-aec2-3400a31a72b0",
        "colab": {
          "base_uri": "https://localhost:8080/"
        },
        "outputId": "b413c1fe-2834-4420-894a-27d71a5e5b1f"
      },
      "outputs": [
        {
          "output_type": "stream",
          "name": "stderr",
          "text": [
            "/tmp/ipython-input-234823271.py:23: FutureWarning: 'H' is deprecated and will be removed in a future version, please use 'h' instead.\n",
            "  .asfreq(\"H\")\n"
          ]
        },
        {
          "output_type": "stream",
          "name": "stdout",
          "text": [
            "len(pred) = 744\n",
            "dtype(pred[0]) = <class 'numpy.float64'>\n",
            "NaNs in pred: 0\n"
          ]
        }
      ],
      "source": [
        "# I chose the Exponential Smoothing (Holt-Winters) model\n",
        "\n",
        "import numpy as np\n",
        "import pandas as pd\n",
        "from statsmodels.tsa.holtwinters import ExponentialSmoothing\n",
        "\n",
        "# load data\n",
        "TRAIN_URL = \"https://raw.githubusercontent.com/dustywhite7/econ8310-assignment1/main/assignment_data_train.csv\"\n",
        "TEST_URL  = \"https://raw.githubusercontent.com/dustywhite7/econ8310-assignment1/main/assignment_data_test.csv\"\n",
        "\n",
        "train_df = pd.read_csv(TRAIN_URL, parse_dates=[\"Timestamp\"])\n",
        "test_df  = pd.read_csv(TEST_URL,  parse_dates=[\"Timestamp\"])\n",
        "\n",
        "\n",
        "train_df.columns = train_df.columns.str.strip()\n",
        "test_df.columns  = test_df.columns.str.strip()\n",
        "\n",
        "# train\n",
        "train_df = (\n",
        "    train_df\n",
        "    .sort_values(\"Timestamp\")\n",
        "    .set_index(\"Timestamp\")\n",
        "    .asfreq(\"H\")\n",
        ")\n",
        "\n",
        "y_train = pd.to_numeric(train_df[\"trips\"], errors=\"coerce\").interpolate(limit_direction=\"both\")\n",
        "\n",
        "y_train = y_train.ffill().bfill()\n",
        "\n",
        "#build and fit\n",
        "model = ExponentialSmoothing(\n",
        "    y_train,\n",
        "    trend=\"add\",\n",
        "    seasonal=\"add\",\n",
        "    seasonal_periods=24,\n",
        "    initialization_method=\"estimated\"\n",
        ")\n",
        "modelFit = model.fit(optimized=True, use_brute=True)\n",
        "\n",
        "#  pred\n",
        "h = len(test_df)\n",
        "forecast = modelFit.forecast(steps=h)\n",
        "pred = np.asarray(forecast).ravel()\n",
        "\n",
        "# print\n",
        "print(\"len(pred) =\", len(pred))\n",
        "print(\"dtype(pred[0]) =\", type(pred[0]))\n",
        "print(\"NaNs in pred:\", np.isnan(pred).sum())\n",
        "\n",
        "\n"
      ]
    }
  ],
  "metadata": {
    "kernelspec": {
      "display_name": "Python 3 (ipykernel)",
      "language": "python",
      "name": "python3"
    },
    "language_info": {
      "codemirror_mode": {
        "name": "ipython",
        "version": 3
      },
      "file_extension": ".py",
      "mimetype": "text/x-python",
      "name": "python",
      "nbconvert_exporter": "python",
      "pygments_lexer": "ipython3",
      "version": "3.9.13"
    },
    "colab": {
      "provenance": []
    }
  },
  "nbformat": 4,
  "nbformat_minor": 5
}