{
  "cells": [
    {
      "cell_type": "code",
      "execution_count": 14,
      "id": "098b2971-5d7a-4d7f-aec2-3400a31a72b0",
      "metadata": {
        "id": "098b2971-5d7a-4d7f-aec2-3400a31a72b0",
        "colab": {
          "base_uri": "https://localhost:8080/"
        },
        "outputId": "62eae38b-5727-44e7-f61f-49503d4e9297"
      },
      "outputs": [
        {
          "output_type": "stream",
          "name": "stderr",
          "text": [
            "/tmp/ipython-input-1189374967.py:34: FutureWarning: 'H' is deprecated and will be removed in a future version, please use 'h' instead.\n",
            "  df = df.sort_values(\"Timestamp\").set_index(\"Timestamp\").asfreq(\"H\")\n",
            "/tmp/ipython-input-1189374967.py:34: FutureWarning: 'H' is deprecated and will be removed in a future version, please use 'h' instead.\n",
            "  df = df.sort_values(\"Timestamp\").set_index(\"Timestamp\").asfreq(\"H\")\n"
          ]
        },
        {
          "output_type": "stream",
          "name": "stdout",
          "text": [
            "DEBUG -----\n",
            "Type of model: <class 'statsmodels.tsa.holtwinters.model.ExponentialSmoothing'>\n",
            "Type of modelFit: <class 'statsmodels.tsa.holtwinters.results.HoltWintersResultsWrapper'>\n",
            "Type of pred: <class 'numpy.ndarray'>\n",
            "Shape of pred: (744,)\n",
            "First 10 predictions: [ 5606.1097574   3577.85981238  2565.74546374  2151.00488427\n",
            "  2202.56732959  2917.31114077  6568.02460355 10397.79786126\n",
            " 12091.00078948 11466.7139307 ]\n",
            "Min pred value: 0.0 Max pred value: 12626.55889461915\n",
            "Length of test_df: 744 Length of pred: 744\n",
            "DEBUG -----\n"
          ]
        }
      ],
      "source": [
        "# I chose the Exponential Smoothing (Holt-Winters) model\n",
        "\n",
        "\n",
        "# assignment1.py — Exponential Smoothing (Holt-Winters)\n",
        "\n",
        "from __future__ import annotations\n",
        "\n",
        "import os\n",
        "import numpy as np\n",
        "import pandas as pd\n",
        "from statsmodels.tsa.holtwinters import ExponentialSmoothing as ES\n",
        "\n",
        "# ---------- 1) resolve data paths (local first, fallback to GitHub) ----------\n",
        "LOCAL_TRAIN = \"assignment_data_train.csv\"\n",
        "LOCAL_TEST  = \"assignment_data_test.csv\"\n",
        "\n",
        "RAW_TRAIN = (\n",
        "    \"https://raw.githubusercontent.com/dustywhite7/econ8310-assignment1/main/\"\n",
        "    \"assignment_data_train.csv\"\n",
        ")\n",
        "RAW_TEST = (\n",
        "    \"https://raw.githubusercontent.com/dustywhite7/econ8310-assignment1/main/\"\n",
        "    \"assignment_data_test.csv\"\n",
        ")\n",
        "\n",
        "TRAIN_PATH = LOCAL_TRAIN if os.path.exists(LOCAL_TRAIN) else RAW_TRAIN\n",
        "TEST_PATH  = LOCAL_TEST  if os.path.exists(LOCAL_TEST)  else RAW_TEST\n",
        "\n",
        "\n",
        "# ---------- 2) load & preprocess ----------\n",
        "def _load_df(path: str) -> pd.DataFrame:\n",
        "    df = pd.read_csv(path, parse_dates=[\"Timestamp\"])\n",
        "    # ensure datetime index & hourly frequency\n",
        "    df = df.sort_values(\"Timestamp\").set_index(\"Timestamp\").asfreq(\"H\")\n",
        "    return df\n",
        "\n",
        "train_df = _load_df(TRAIN_PATH)\n",
        "test_df  = _load_df(TEST_PATH)\n",
        "\n",
        "# target series as numeric, fix any non-numeric -> NaN, then time interpolation\n",
        "y_train = pd.to_numeric(train_df[\"trips\"], errors=\"coerce\")\n",
        "# if any missing values exist (coerce or gaps), fill in time-consistent way\n",
        "y_train = y_train.interpolate(method=\"time\", limit_direction=\"both\")\n",
        "\n",
        "\n",
        "# ---------- 3) build & fit model ----------\n",
        "# Additive trend + additive daily seasonality (24 hours)\n",
        "model: ES = ES(\n",
        "    y_train,\n",
        "    trend=\"add\",\n",
        "    seasonal=\"add\",\n",
        "    seasonal_periods=24,\n",
        "    initialization_method=\"estimated\",\n",
        ")\n",
        "\n",
        "# Use default optimizers; use_brute can help but increases time — keep True to match earlier advice\n",
        "modelFit = model.fit(optimized=True, use_brute=True)\n",
        "\n",
        "\n",
        "# ---------- 4) forecast ----------\n",
        "# Forecast for the length of test set (January 2019 has 744 hours)\n",
        "h = len(test_df)\n",
        "forecast = modelFit.forecast(steps=h)\n",
        "\n",
        "# ---------- 5) shape and type expected by the tests ----------\n",
        "# 1-D numpy array of floats, non-negative\n",
        "pred = np.asarray(forecast, dtype=float).ravel()\n",
        "pred = np.maximum(pred, 0.0)\n",
        "\n",
        "# Debug: check prediction output\n",
        "print(\"DEBUG -----\")\n",
        "print(\"Type of model:\", type(model))\n",
        "print(\"Type of modelFit:\", type(modelFit))\n",
        "print(\"Type of pred:\", type(pred))\n",
        "print(\"Shape of pred:\", pred.shape if hasattr(pred, \"shape\") else len(pred))\n",
        "print(\"First 10 predictions:\", pred[:10])\n",
        "print(\"Min pred value:\", np.min(pred), \"Max pred value:\", np.max(pred))\n",
        "print(\"Length of test_df:\", len(test_df), \"Length of pred:\", len(pred))\n",
        "print(\"DEBUG -----\")\n",
        "\n",
        "\n",
        "\n",
        "\n"
      ]
    }
  ],
  "metadata": {
    "kernelspec": {
      "display_name": "Python 3 (ipykernel)",
      "language": "python",
      "name": "python3"
    },
    "language_info": {
      "codemirror_mode": {
        "name": "ipython",
        "version": 3
      },
      "file_extension": ".py",
      "mimetype": "text/x-python",
      "name": "python",
      "nbconvert_exporter": "python",
      "pygments_lexer": "ipython3",
      "version": "3.9.13"
    },
    "colab": {
      "provenance": []
    }
  },
  "nbformat": 4,
  "nbformat_minor": 5
}