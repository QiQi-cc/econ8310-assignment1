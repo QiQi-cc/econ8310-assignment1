{
  "cells": [
    {
      "cell_type": "code",
      "execution_count": 4,
      "id": "098b2971-5d7a-4d7f-aec2-3400a31a72b0",
      "metadata": {
        "id": "098b2971-5d7a-4d7f-aec2-3400a31a72b0",
        "colab": {
          "base_uri": "https://localhost:8080/"
        },
        "outputId": "4be7ea2b-1eec-4ec8-97ce-b771a6138b67"
      },
      "outputs": [
        {
          "output_type": "stream",
          "name": "stderr",
          "text": [
            "/tmp/ipython-input-3346509209.py:27: FutureWarning: 'H' is deprecated and will be removed in a future version, please use 'h' instead.\n",
            "  train_df = train_df.sort_values(\"Timestamp\").set_index(\"Timestamp\").asfreq(\"H\")\n"
          ]
        }
      ],
      "source": [
        "# I chose the Exponential Smoothing (Holt-Winters) model\n",
        "\n",
        "# assignment1.py — Exponential Smoothing solution for the autograder\n",
        "\n",
        "import os\n",
        "import numpy as np\n",
        "import pandas as pd\n",
        "from statsmodels.tsa.holtwinters import ExponentialSmoothing\n",
        "\n",
        "# ---------- data locations ----------\n",
        "TRAIN_LOCAL = \"assignment_data_train.csv\"\n",
        "TEST_LOCAL  = \"assignment_data_test.csv\"\n",
        "TRAIN_URL   = \"https://raw.githubusercontent.com/dustywhite7/econ8310-assignment1/main/assignment_data_train.csv\"\n",
        "TEST_URL    = \"https://raw.githubusercontent.com/dustywhite7/econ8310-assignment1/main/assignment_data_test.csv\"\n",
        "\n",
        "def _read_csv_safe(local_path: str, fallback_url: str) -> pd.DataFrame:\n",
        "    \"\"\"\n",
        "    Read from local file if it exists (this is how the grader runs).\n",
        "    If not found (e.g., on Colab), fall back to the provided URL.\n",
        "    \"\"\"\n",
        "    path = local_path if os.path.exists(local_path) else fallback_url\n",
        "    return pd.read_csv(path, parse_dates=[\"Timestamp\"])\n",
        "\n",
        "# ---------- load & preprocess training ----------\n",
        "train_df = _read_csv_safe(TRAIN_LOCAL, TRAIN_URL)\n",
        "# Ensure chronological hourly index\n",
        "train_df = train_df.sort_values(\"Timestamp\").set_index(\"Timestamp\").asfreq(\"H\")\n",
        "\n",
        "# Target cleaning: numeric + time interpolation to fill gaps\n",
        "y_train = pd.to_numeric(train_df[\"trips\"], errors=\"coerce\")\n",
        "y_train = y_train.interpolate(method=\"time\", limit_direction=\"both\")\n",
        "\n",
        "# ---------- build (unfitted) model ----------\n",
        "model = ExponentialSmoothing(\n",
        "    y_train,\n",
        "    trend=\"add\",\n",
        "    seasonal=\"add\",\n",
        "    seasonal_periods=24,\n",
        "    initialization_method=\"estimated\",\n",
        ")\n",
        "\n",
        "# ---------- fit ----------\n",
        "modelFit = model.fit(optimized=True, use_brute=True)\n",
        "\n",
        "# ---------- test horizon & forecast ----------\n",
        "test_df = _read_csv_safe(TEST_LOCAL, TEST_URL)\n",
        "h = len(test_df)                      # should be 744 hours for Jan 2019\n",
        "forecast = modelFit.forecast(steps=h)\n",
        "\n",
        "# ---------- predictions for the grader ----------\n",
        "pred = np.asarray(forecast, dtype=float).ravel()\n",
        "pred = np.maximum(pred, 0.0)          # avoid negatives\n"
      ]
    }
  ],
  "metadata": {
    "kernelspec": {
      "display_name": "Python 3 (ipykernel)",
      "language": "python",
      "name": "python3"
    },
    "language_info": {
      "codemirror_mode": {
        "name": "ipython",
        "version": 3
      },
      "file_extension": ".py",
      "mimetype": "text/x-python",
      "name": "python",
      "nbconvert_exporter": "python",
      "pygments_lexer": "ipython3",
      "version": "3.9.13"
    },
    "colab": {
      "provenance": []
    }
  },
  "nbformat": 4,
  "nbformat_minor": 5
}