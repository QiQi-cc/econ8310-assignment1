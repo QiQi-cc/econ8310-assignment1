{
  "cells": [
    {
      "cell_type": "code",
      "execution_count": 2,
      "id": "098b2971-5d7a-4d7f-aec2-3400a31a72b0",
      "metadata": {
        "id": "098b2971-5d7a-4d7f-aec2-3400a31a72b0",
        "colab": {
          "base_uri": "https://localhost:8080/"
        },
        "outputId": "94b11a31-2bf5-41a3-aa2c-3f78132956d6"
      },
      "outputs": [
        {
          "output_type": "stream",
          "name": "stderr",
          "text": [
            "/tmp/ipython-input-2988366806.py:15: FutureWarning: 'H' is deprecated and will be removed in a future version, please use 'h' instead.\n",
            "  train_df = train_df.sort_values(\"Timestamp\").set_index(\"Timestamp\").asfreq(\"H\")\n"
          ]
        },
        {
          "output_type": "stream",
          "name": "stdout",
          "text": [
            "Prediction length: 744\n",
            "Prediction type: <class 'numpy.ndarray'>\n",
            "First few values: [5606.1097574  3577.85981238 2565.74546374 2151.00488427 2202.56732959]\n"
          ]
        }
      ],
      "source": [
        "# I chose the Exponential Smoothing (Holt-Winters) model\n",
        "\n",
        "# assignment1.py - Exponential Smoothing Solution\n",
        "\n",
        "import numpy as np\n",
        "import pandas as pd\n",
        "from statsmodels.tsa.holtwinters import ExponentialSmoothing\n",
        "\n",
        "# Read data from the provided URLs\n",
        "TRAIN_URL = \"https://github.com/dustywhite7/econ8310-assignment1/raw/main/assignment_data_train.csv\"\n",
        "TEST_URL = \"https://github.com/dustywhite7/econ8310-assignment1/raw/main/assignment_data_test.csv\"\n",
        "\n",
        "# Load and preprocess the training data\n",
        "train_df = pd.read_csv(TRAIN_URL, parse_dates=[\"Timestamp\"])\n",
        "train_df = train_df.sort_values(\"Timestamp\").set_index(\"Timestamp\").asfreq(\"H\")\n",
        "\n",
        "# Process the target variable - handle any data issues\n",
        "y_train = pd.to_numeric(train_df[\"trips\"], errors=\"coerce\")\n",
        "# Fill any remaining missing values using time-based interpolation\n",
        "y_train = y_train.interpolate(method=\"time\", limit_direction=\"both\")\n",
        "\n",
        "# Create the Exponential Smoothing model (unfitted)\n",
        "# Using additive seasonality with 24-hour period\n",
        "model = ExponentialSmoothing(\n",
        "    y_train,\n",
        "    trend=\"add\",\n",
        "    seasonal=\"add\",\n",
        "    seasonal_periods=24,\n",
        "    initialization_method=\"estimated\"\n",
        ")\n",
        "\n",
        "# Fit the model to the training data\n",
        "modelFit = model.fit(optimized=True, use_brute=True)\n",
        "\n",
        "# Load the test data\n",
        "test_df = pd.read_csv(TEST_URL, parse_dates=[\"Timestamp\"])\n",
        "\n",
        "# Generate forecasts for the test period (744 hours for January 2019)\n",
        "h = len(test_df)\n",
        "forecast = modelFit.forecast(steps=h)\n",
        "\n",
        "# Ensure predictions are in the correct format for the autograder\n",
        "# Convert to numpy array, ensure it's 1D, and ensure no negative values\n",
        "pred = np.asarray(forecast, dtype=float).ravel()\n",
        "pred = np.maximum(pred, 0)  # Ensure no negative values\n",
        "\n",
        "# For debugging: check the output format\n",
        "print(f\"Prediction length: {len(pred)}\")\n",
        "print(f\"Prediction type: {type(pred)}\")\n",
        "print(f\"First few values: {pred[:5]}\")"
      ]
    }
  ],
  "metadata": {
    "kernelspec": {
      "display_name": "Python 3 (ipykernel)",
      "language": "python",
      "name": "python3"
    },
    "language_info": {
      "codemirror_mode": {
        "name": "ipython",
        "version": 3
      },
      "file_extension": ".py",
      "mimetype": "text/x-python",
      "name": "python",
      "nbconvert_exporter": "python",
      "pygments_lexer": "ipython3",
      "version": "3.9.13"
    },
    "colab": {
      "provenance": []
    }
  },
  "nbformat": 4,
  "nbformat_minor": 5
}