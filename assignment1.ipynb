{
  "cells": [
    {
      "cell_type": "code",
      "execution_count": 16,
      "id": "098b2971-5d7a-4d7f-aec2-3400a31a72b0",
      "metadata": {
        "id": "098b2971-5d7a-4d7f-aec2-3400a31a72b0",
        "colab": {
          "base_uri": "https://localhost:8080/"
        },
        "outputId": "16bd7b87-322a-4599-b350-6f6e510b4584"
      },
      "outputs": [
        {
          "output_type": "stream",
          "name": "stdout",
          "text": [
            "Type of model: <class 'statsmodels.tsa.holtwinters.model.ExponentialSmoothing'>\n",
            "Type of modelFit: <class 'statsmodels.tsa.holtwinters.results.HoltWintersResultsWrapper'>\n",
            "Type of pred: <class 'numpy.ndarray'>\n",
            "Shape of pred: (744,)\n",
            "First 5 predictions: [5606.1097574  3577.85981238 2565.74546374 2151.00488427 2202.56732959]\n",
            "Min pred: 0.0 Max pred: 12626.55889461915\n",
            "Length of test_df: 744\n",
            "Length of pred: 744\n"
          ]
        }
      ],
      "source": [
        "# I chose the Exponential Smoothing (Holt-Winters) model\n",
        "\n",
        "\n",
        "# assignment1.py  — Exponential Smoothing solution (Econ 8310 A1)\n",
        "\n",
        "import numpy as np\n",
        "import pandas as pd\n",
        "from statsmodels.tsa.holtwinters import ExponentialSmoothing\n",
        "\n",
        "# ---------------------------------------------------------------------\n",
        "# Data locations (use raw.githubusercontent.com for reliability)\n",
        "TRAIN_URL = \"https://raw.githubusercontent.com/dustywhite7/econ8310-assignment1/main/assignment_data_train.csv\"\n",
        "TEST_URL  = \"https://raw.githubusercontent.com/dustywhite7/econ8310-assignment1/main/assignment_data_test.csv\"\n",
        "\n",
        "\n",
        "def _load_hourly_df(url: str) -> pd.DataFrame:\n",
        "    \"\"\"Read hourly CSV with a Timestamp column, return time-indexed DataFrame.\"\"\"\n",
        "    df = pd.read_csv(url, parse_dates=[\"Timestamp\"])\n",
        "    # Ensure chronological order, proper DateTimeIndex and 1-hour frequency\n",
        "    df = df.sort_values(\"Timestamp\").set_index(\"Timestamp\").asfreq(\"h\")\n",
        "    return df\n",
        "\n",
        "\n",
        "# --------------------------- load + prep data --------------------------\n",
        "_train_df = _load_hourly_df(TRAIN_URL)\n",
        "_test_df  = _load_hourly_df(TEST_URL)\n",
        "\n",
        "# Target: coerce non-numeric to NaN, then fill gaps via time interpolation\n",
        "y_train = pd.to_numeric(_train_df[\"trips\"], errors=\"coerce\")\n",
        "y_train = y_train.interpolate(method=\"time\", limit_direction=\"both\")\n",
        "\n",
        "# ------------------------- build the (unfitted) model ------------------\n",
        "model = ExponentialSmoothing(\n",
        "    y_train,\n",
        "    trend=\"add\",\n",
        "    seasonal=\"add\",\n",
        "    seasonal_periods=24,           # daily seasonality (hourly data)\n",
        "    initialization_method=\"estimated\",\n",
        ")\n",
        "\n",
        "# ------------------------------ fit model ------------------------------\n",
        "# Expose the fitted model object for the autograder\n",
        "modelFit = model.fit(optimized=True, use_brute=True)\n",
        "\n",
        "# ------------------------------ forecast -------------------------------\n",
        "h = len(_test_df)                 # should be 744 hours for Jan 2019\n",
        "_forecast = modelFit.forecast(steps=h)\n",
        "\n",
        "# Predictions as 1D numpy array of float, with no negative values\n",
        "pred = np.asarray(_forecast, dtype=float).ravel()\n",
        "pred = np.maximum(pred, 0.0)\n",
        "\n",
        "# (Optionally declare explicit exports; some graders import these names)\n",
        "__all__ = [\"model\", \"modelFit\", \"pred\"]\n",
        "\n",
        "\n",
        "\n",
        "\n"
      ]
    }
  ],
  "metadata": {
    "kernelspec": {
      "display_name": "Python 3 (ipykernel)",
      "language": "python",
      "name": "python3"
    },
    "language_info": {
      "codemirror_mode": {
        "name": "ipython",
        "version": 3
      },
      "file_extension": ".py",
      "mimetype": "text/x-python",
      "name": "python",
      "nbconvert_exporter": "python",
      "pygments_lexer": "ipython3",
      "version": "3.9.13"
    },
    "colab": {
      "provenance": []
    }
  },
  "nbformat": 4,
  "nbformat_minor": 5
}