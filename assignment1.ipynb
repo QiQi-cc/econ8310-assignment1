{
  "cells": [
    {
      "cell_type": "code",
      "execution_count": 1,
      "id": "098b2971-5d7a-4d7f-aec2-3400a31a72b0",
      "metadata": {
        "id": "098b2971-5d7a-4d7f-aec2-3400a31a72b0",
        "colab": {
          "base_uri": "https://localhost:8080/"
        },
        "outputId": "e8647b83-32c4-4a7a-8995-506004dcf516"
      },
      "outputs": [
        {
          "output_type": "stream",
          "name": "stdout",
          "text": [
            "Requirement already satisfied: statsmodels in /usr/local/lib/python3.12/dist-packages (0.14.5)\n",
            "Requirement already satisfied: numpy<3,>=1.22.3 in /usr/local/lib/python3.12/dist-packages (from statsmodels) (2.0.2)\n",
            "Requirement already satisfied: scipy!=1.9.2,>=1.8 in /usr/local/lib/python3.12/dist-packages (from statsmodels) (1.16.1)\n",
            "Requirement already satisfied: pandas!=2.1.0,>=1.4 in /usr/local/lib/python3.12/dist-packages (from statsmodels) (2.2.2)\n",
            "Requirement already satisfied: patsy>=0.5.6 in /usr/local/lib/python3.12/dist-packages (from statsmodels) (1.0.1)\n",
            "Requirement already satisfied: packaging>=21.3 in /usr/local/lib/python3.12/dist-packages (from statsmodels) (25.0)\n",
            "Requirement already satisfied: python-dateutil>=2.8.2 in /usr/local/lib/python3.12/dist-packages (from pandas!=2.1.0,>=1.4->statsmodels) (2.9.0.post0)\n",
            "Requirement already satisfied: pytz>=2020.1 in /usr/local/lib/python3.12/dist-packages (from pandas!=2.1.0,>=1.4->statsmodels) (2025.2)\n",
            "Requirement already satisfied: tzdata>=2022.7 in /usr/local/lib/python3.12/dist-packages (from pandas!=2.1.0,>=1.4->statsmodels) (2025.2)\n",
            "Requirement already satisfied: six>=1.5 in /usr/local/lib/python3.12/dist-packages (from python-dateutil>=2.8.2->pandas!=2.1.0,>=1.4->statsmodels) (1.17.0)\n"
          ]
        },
        {
          "output_type": "stream",
          "name": "stderr",
          "text": [
            "/tmp/ipython-input-643965348.py:18: FutureWarning: 'H' is deprecated and will be removed in a future version, please use 'h' instead.\n",
            "  train = train.sort_values(\"Timestamp\").set_index(\"Timestamp\").asfreq(\"H\")\n"
          ]
        },
        {
          "output_type": "stream",
          "name": "stdout",
          "text": [
            "First 10 predicted values: [ 5606.1097574   3577.85981238  2565.74546374  2151.00488427\n",
            "  2202.56732959  2917.31114077  6568.02460355 10397.79786126\n",
            " 12091.00078948 11466.7139307 ]\n",
            "Prediction array length: 744\n",
            "Prediction array type: <class 'numpy.ndarray'>\n"
          ]
        }
      ],
      "source": [
        "# I chose the Exponential Smoothing (Holt-Winters) model\n",
        "\n",
        "# assignment1.py - Google Colab Version\n",
        "\n",
        "# Install required libraries\n",
        "!pip install statsmodels\n",
        "\n",
        "import numpy as np\n",
        "import pandas as pd\n",
        "from statsmodels.tsa.holtwinters import ExponentialSmoothing\n",
        "\n",
        "# Read data from URLs\n",
        "TRAIN_URL = \"https://github.com/dustywhite7/econ8310-assignment1/raw/main/assignment_data_train.csv\"\n",
        "TEST_URL = \"https://github.com/dustywhite7/econ8310-assignment1/raw/main/assignment_data_test.csv\"\n",
        "\n",
        "# Read and preprocess training data\n",
        "train = pd.read_csv(TRAIN_URL, parse_dates=[\"Timestamp\"])\n",
        "train = train.sort_values(\"Timestamp\").set_index(\"Timestamp\").asfreq(\"H\")\n",
        "\n",
        "# Process target variable - convert to numeric and handle missing values\n",
        "y_train = pd.to_numeric(train[\"trips\"], errors=\"coerce\")\n",
        "y_train = y_train.interpolate(method=\"time\", limit_direction=\"both\")\n",
        "\n",
        "# Create Exponential Smoothing model (ensure model variable is unfitted)\n",
        "model = ExponentialSmoothing(\n",
        "    y_train,\n",
        "    trend=\"add\",\n",
        "    seasonal=\"add\",\n",
        "    seasonal_periods=24,  # Use 24-hour seasonal cycle\n",
        "    initialization_method=\"estimated\"\n",
        ")\n",
        "\n",
        "# Fit the model (ensure modelFit variable is the fitted model)\n",
        "modelFit = model.fit(optimized=True, use_brute=True)\n",
        "\n",
        "# Read test data\n",
        "test = pd.read_csv(TEST_URL, parse_dates=[\"Timestamp\"])\n",
        "\n",
        "# Generate forecast (744 hours, for January 2019)\n",
        "h = len(test)\n",
        "forecast = modelFit.forecast(steps=h)\n",
        "\n",
        "# Ensure predictions are a 1D numpy array of length 744 with float type\n",
        "pred = np.asarray(forecast, dtype=float).ravel()\n",
        "\n",
        "# Ensure predictions are non-negative (taxi trips can't be negative)\n",
        "pred = np.maximum(pred, 0)\n",
        "\n",
        "# Output first 10 values for verification\n",
        "print(\"First 10 predicted values:\", pred[:10])\n",
        "print(\"Prediction array length:\", len(pred))\n",
        "print(\"Prediction array type:\", type(pred))"
      ]
    }
  ],
  "metadata": {
    "kernelspec": {
      "display_name": "Python 3 (ipykernel)",
      "language": "python",
      "name": "python3"
    },
    "language_info": {
      "codemirror_mode": {
        "name": "ipython",
        "version": 3
      },
      "file_extension": ".py",
      "mimetype": "text/x-python",
      "name": "python",
      "nbconvert_exporter": "python",
      "pygments_lexer": "ipython3",
      "version": "3.9.13"
    },
    "colab": {
      "provenance": []
    }
  },
  "nbformat": 4,
  "nbformat_minor": 5
}