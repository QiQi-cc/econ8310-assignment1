{
  "cells": [
    {
      "cell_type": "code",
      "execution_count": 15,
      "id": "098b2971-5d7a-4d7f-aec2-3400a31a72b0",
      "metadata": {
        "id": "098b2971-5d7a-4d7f-aec2-3400a31a72b0",
        "colab": {
          "base_uri": "https://localhost:8080/"
        },
        "outputId": "254f73b9-c052-4ea6-bcac-5a23ea771c13"
      },
      "outputs": [
        {
          "output_type": "stream",
          "name": "stderr",
          "text": [
            "/tmp/ipython-input-3963294197.py:21: FutureWarning: 'H' is deprecated and will be removed in a future version, please use 'h' instead.\n",
            "  train = train.sort_values(\"Timestamp\").set_index(\"Timestamp\").asfreq(\"H\")\n"
          ]
        }
      ],
      "source": [
        "# I chose the Exponential Smoothing (Holt-Winters) model\n",
        "\n",
        "import os\n",
        "import numpy as np\n",
        "import pandas as pd\n",
        "from statsmodels.tsa.holtwinters import ExponentialSmoothing as ES\n",
        "\n",
        "# ---------- 1) 读入数据 ----------\n",
        "TRAIN_PATH = \"assignment_data_train.csv\"\n",
        "TEST_PATH  = \"assignment_data_test.csv\"\n",
        "\n",
        "# 本地优先（GitHub Actions 有这两个文件）；Colab 没文件就用 raw 链接\n",
        "if not os.path.exists(TRAIN_PATH):\n",
        "    TRAIN_PATH = \"https://raw.githubusercontent.com/dustywhite7/econ8310-assignment1/main/assignment_data_train.csv\"\n",
        "    TEST_PATH  = \"https://raw.githubusercontent.com/dustywhite7/econ8310-assignment1/main/assignment_data_test.csv\"\n",
        "\n",
        "train = pd.read_csv(TRAIN_PATH, parse_dates=[\"Timestamp\"])\n",
        "test  = pd.read_csv(TEST_PATH,  parse_dates=[\"Timestamp\"])\n",
        "\n",
        "# ---------- 2) 整理索引 & 目标列 ----------\n",
        "train = train.sort_values(\"Timestamp\").set_index(\"Timestamp\").asfreq(\"H\")\n",
        "y_train = pd.to_numeric(train[\"trips\"], errors=\"coerce\").interpolate(limit_direction=\"both\")\n",
        "\n",
        "# ---------- 3) 建模（ETS：加性趋势 + 阻尼 + 加性季节，日内24小时季节性） ----------\n",
        "model = ES(\n",
        "    y_train,\n",
        "    trend=\"add\",\n",
        "    damped_trend=True,\n",
        "    seasonal=\"add\",\n",
        "    seasonal_periods=24,\n",
        "    initialization_method=\"estimated\",\n",
        ")\n",
        "\n",
        "# 拟合\n",
        "modelFit = model.fit(optimized=True)\n",
        "\n",
        "# ---------- 4) 预测 ----------\n",
        "h = len(test)  # 应该是 744\n",
        "forecast = modelFit.forecast(steps=h)\n",
        "pred = np.asarray(forecast).ravel()  # 1D 数组，长度 744，元素必须是数值\n"
      ]
    }
  ],
  "metadata": {
    "kernelspec": {
      "display_name": "Python 3 (ipykernel)",
      "language": "python",
      "name": "python3"
    },
    "language_info": {
      "codemirror_mode": {
        "name": "ipython",
        "version": 3
      },
      "file_extension": ".py",
      "mimetype": "text/x-python",
      "name": "python",
      "nbconvert_exporter": "python",
      "pygments_lexer": "ipython3",
      "version": "3.9.13"
    },
    "colab": {
      "provenance": []
    }
  },
  "nbformat": 4,
  "nbformat_minor": 5
}