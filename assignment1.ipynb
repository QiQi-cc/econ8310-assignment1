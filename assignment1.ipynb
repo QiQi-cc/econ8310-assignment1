{
  "cells": [
    {
      "cell_type": "code",
      "execution_count": 19,
      "id": "098b2971-5d7a-4d7f-aec2-3400a31a72b0",
      "metadata": {
        "id": "098b2971-5d7a-4d7f-aec2-3400a31a72b0",
        "colab": {
          "base_uri": "https://localhost:8080/"
        },
        "outputId": "1a7b696e-f8fa-4e26-f1e9-dd9563fce7d0"
      },
      "outputs": [
        {
          "output_type": "stream",
          "name": "stdout",
          "text": [
            "Requirement already satisfied: statsmodels in /usr/local/lib/python3.12/dist-packages (0.14.5)\n",
            "Requirement already satisfied: numpy<3,>=1.22.3 in /usr/local/lib/python3.12/dist-packages (from statsmodels) (2.0.2)\n",
            "Requirement already satisfied: scipy!=1.9.2,>=1.8 in /usr/local/lib/python3.12/dist-packages (from statsmodels) (1.16.1)\n",
            "Requirement already satisfied: pandas!=2.1.0,>=1.4 in /usr/local/lib/python3.12/dist-packages (from statsmodels) (2.2.2)\n",
            "Requirement already satisfied: patsy>=0.5.6 in /usr/local/lib/python3.12/dist-packages (from statsmodels) (1.0.1)\n",
            "Requirement already satisfied: packaging>=21.3 in /usr/local/lib/python3.12/dist-packages (from statsmodels) (25.0)\n",
            "Requirement already satisfied: python-dateutil>=2.8.2 in /usr/local/lib/python3.12/dist-packages (from pandas!=2.1.0,>=1.4->statsmodels) (2.9.0.post0)\n",
            "Requirement already satisfied: pytz>=2020.1 in /usr/local/lib/python3.12/dist-packages (from pandas!=2.1.0,>=1.4->statsmodels) (2025.2)\n",
            "Requirement already satisfied: tzdata>=2022.7 in /usr/local/lib/python3.12/dist-packages (from pandas!=2.1.0,>=1.4->statsmodels) (2025.2)\n",
            "Requirement already satisfied: six>=1.5 in /usr/local/lib/python3.12/dist-packages (from python-dateutil>=2.8.2->pandas!=2.1.0,>=1.4->statsmodels) (1.17.0)\n"
          ]
        },
        {
          "output_type": "stream",
          "name": "stderr",
          "text": [
            "/tmp/ipython-input-66607843.py:18: FutureWarning: 'H' is deprecated and will be removed in a future version, please use 'h' instead.\n",
            "  train = train.sort_values(\"Timestamp\").set_index(\"Timestamp\").asfreq(\"H\")\n"
          ]
        },
        {
          "output_type": "stream",
          "name": "stdout",
          "text": [
            "预测结果的前10个值: [ 5606.1097574   3577.85981238  2565.74546374  2151.00488427\n",
            "  2202.56732959  2917.31114077  6568.02460355 10397.79786126\n",
            " 12091.00078948 11466.7139307 ]\n",
            "预测结果的长度: 744\n",
            "预测结果的类型: <class 'numpy.ndarray'>\n"
          ]
        }
      ],
      "source": [
        "# I chose the Exponential Smoothing (Holt-Winters) model\n",
        "\n",
        "# assignment1.py - Google Colab版本\n",
        "\n",
        "# 首先安装必要的库\n",
        "!pip install statsmodels\n",
        "\n",
        "import numpy as np\n",
        "import pandas as pd\n",
        "from statsmodels.tsa.holtwinters import ExponentialSmoothing\n",
        "\n",
        "# 读取数据\n",
        "TRAIN_URL = \"https://github.com/dustywhite7/econ8310-assignment1/raw/main/assignment_data_train.csv\"\n",
        "TEST_URL = \"https://github.com/dustywhite7/econ8310-assignment1/raw/main/assignment_data_test.csv\"\n",
        "\n",
        "# 读取训练数据\n",
        "train = pd.read_csv(TRAIN_URL, parse_dates=[\"Timestamp\"])\n",
        "train = train.sort_values(\"Timestamp\").set_index(\"Timestamp\").asfreq(\"H\")\n",
        "\n",
        "# 处理目标变量 - 转换为数值并处理缺失值\n",
        "y_train = pd.to_numeric(train[\"trips\"], errors=\"coerce\")\n",
        "y_train = y_train.interpolate(method=\"time\", limit_direction=\"both\")\n",
        "\n",
        "# 创建指数平滑模型 (确保model变量是未拟合的模型)\n",
        "model = ExponentialSmoothing(\n",
        "    y_train,\n",
        "    trend=\"add\",\n",
        "    seasonal=\"add\",\n",
        "    seasonal_periods=24,  # 使用24小时作为季节性周期\n",
        "    initialization_method=\"estimated\"\n",
        ")\n",
        "\n",
        "# 拟合模型 (确保modelFit变量是拟合后的模型)\n",
        "modelFit = model.fit(optimized=True, use_brute=True)\n",
        "\n",
        "# 读取测试数据\n",
        "test = pd.read_csv(TEST_URL, parse_dates=[\"Timestamp\"])\n",
        "\n",
        "# 生成预测 (744小时，即2019年1月)\n",
        "h = len(test)\n",
        "forecast = modelFit.forecast(steps=h)\n",
        "\n",
        "# 确保预测结果是长度为744的一维numpy数组\n",
        "# 使用ravel()确保是一维数组，并转换为浮点数类型\n",
        "pred = np.asarray(forecast, dtype=float).ravel()\n",
        "\n",
        "# 确保预测结果没有负值（出租车行程数不能为负）\n",
        "pred = np.maximum(pred, 0)\n",
        "\n",
        "# 输出预测结果的前10个值以供检查\n",
        "print(\"预测结果的前10个值:\", pred[:10])\n",
        "print(\"预测结果的长度:\", len(pred))\n",
        "print(\"预测结果的类型:\", type(pred))"
      ]
    }
  ],
  "metadata": {
    "kernelspec": {
      "display_name": "Python 3 (ipykernel)",
      "language": "python",
      "name": "python3"
    },
    "language_info": {
      "codemirror_mode": {
        "name": "ipython",
        "version": 3
      },
      "file_extension": ".py",
      "mimetype": "text/x-python",
      "name": "python",
      "nbconvert_exporter": "python",
      "pygments_lexer": "ipython3",
      "version": "3.9.13"
    },
    "colab": {
      "provenance": []
    }
  },
  "nbformat": 4,
  "nbformat_minor": 5
}