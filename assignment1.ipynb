{
  "cells": [
    {
      "cell_type": "code",
      "execution_count": 14,
      "id": "098b2971-5d7a-4d7f-aec2-3400a31a72b0",
      "metadata": {
        "id": "098b2971-5d7a-4d7f-aec2-3400a31a72b0",
        "colab": {
          "base_uri": "https://localhost:8080/"
        },
        "outputId": "7df316d9-83b6-45b9-d5bd-35009b87d997"
      },
      "outputs": [
        {
          "output_type": "stream",
          "name": "stderr",
          "text": [
            "/tmp/ipython-input-655176934.py:25: FutureWarning: 'H' is deprecated and will be removed in a future version, please use 'h' instead.\n",
            "  train = train.sort_values(\"Timestamp\").set_index(\"Timestamp\").asfreq(\"H\")\n",
            "/tmp/ipython-input-655176934.py:26: FutureWarning: 'H' is deprecated and will be removed in a future version, please use 'h' instead.\n",
            "  test  = test.sort_values(\"Timestamp\").set_index(\"Timestamp\").asfreq(\"H\")\n"
          ]
        }
      ],
      "source": [
        "# I chose the Exponential Smoothing (Holt-Winters) model\n",
        "\n",
        "# assignment1.py  —— 只暴露三个变量：model, modelFit, pred\n",
        "import numpy as np\n",
        "import pandas as pd\n",
        "from statsmodels.tsa.holtwinters import ExponentialSmoothing\n",
        "\n",
        "# -------- 1) 读取本地训练/测试数据（相对路径，适配 GitHub Actions） --------\n",
        "import os\n",
        "\n",
        "# 默认先尝试本地路径（GitHub autograder 用）\n",
        "TRAIN_PATH = \"assignment_data_train.csv\"\n",
        "TEST_PATH  = \"assignment_data_test.csv\"\n",
        "\n",
        "# 如果本地不存在，就用 GitHub 原始链接（Colab 调试用）\n",
        "if not os.path.exists(TRAIN_PATH):\n",
        "    TRAIN_PATH = \"https://raw.githubusercontent.com/dustywhite7/econ8310-assignment1/main/assignment_data_train.csv\"\n",
        "    TEST_PATH  = \"https://raw.githubusercontent.com/dustywhite7/econ8310-assignment1/main/assignment_data_test.csv\"\n",
        "\n",
        "train = pd.read_csv(TRAIN_PATH, parse_dates=[\"Timestamp\"])\n",
        "test  = pd.read_csv(TEST_PATH,  parse_dates=[\"Timestamp\"])\n",
        "\n",
        "\n",
        "# 时间索引 + 小时频率；目标强制为数值并双向插值，避免初始化报错\n",
        "train = train.sort_values(\"Timestamp\").set_index(\"Timestamp\").asfreq(\"H\")\n",
        "test  = test.sort_values(\"Timestamp\").set_index(\"Timestamp\").asfreq(\"H\")\n",
        "\n",
        "y_train = pd.to_numeric(train[\"trips\"], errors=\"coerce\").interpolate(\n",
        "    limit_direction=\"both\"\n",
        ")\n",
        "\n",
        "# -------- 2) 定义模型（允许的类型：Holt-Winters / ExponentialSmoothing）--------\n",
        "# 小时数据 → 24 小时季节；用加法趋势 + 加法季节；初始化用 estimated 以兼容缺失\n",
        "model = ExponentialSmoothing(\n",
        "    y_train,\n",
        "    trend=\"add\",\n",
        "    seasonal=\"add\",\n",
        "    seasonal_periods=24,\n",
        "    initialization_method=\"estimated\",\n",
        ")\n",
        "\n",
        "# -------- 3) 拟合并预测 --------\n",
        "# optimized=True 让 statsmodels 自动寻参；多数环境不需要 use_brute\n",
        "modelFit = model.fit(optimized=True)\n",
        "\n",
        "h = len(test)  # 期待 744\n",
        "forecasts = modelFit.forecast(steps=h)\n",
        "\n",
        "# -------- 4) 产出一维数组/列表（通过 testValidPred）--------\n",
        "pred = np.asarray(forecasts, dtype=float).ravel().tolist()\n"
      ]
    }
  ],
  "metadata": {
    "kernelspec": {
      "display_name": "Python 3 (ipykernel)",
      "language": "python",
      "name": "python3"
    },
    "language_info": {
      "codemirror_mode": {
        "name": "ipython",
        "version": 3
      },
      "file_extension": ".py",
      "mimetype": "text/x-python",
      "name": "python",
      "nbconvert_exporter": "python",
      "pygments_lexer": "ipython3",
      "version": "3.9.13"
    },
    "colab": {
      "provenance": []
    }
  },
  "nbformat": 4,
  "nbformat_minor": 5
}