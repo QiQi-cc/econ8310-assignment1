{
  "cells": [
    {
      "cell_type": "code",
      "execution_count": 17,
      "id": "098b2971-5d7a-4d7f-aec2-3400a31a72b0",
      "metadata": {
        "id": "098b2971-5d7a-4d7f-aec2-3400a31a72b0",
        "colab": {
          "base_uri": "https://localhost:8080/"
        },
        "outputId": "3055e5a4-9368-40e3-bd8f-891bd38218ec"
      },
      "outputs": [
        {
          "output_type": "stream",
          "name": "stderr",
          "text": [
            "/tmp/ipython-input-2811857382.py:15: FutureWarning: 'H' is deprecated and will be removed in a future version, please use 'h' instead.\n",
            "  train = train.sort_values(\"Timestamp\").set_index(\"Timestamp\").asfreq(\"H\")\n",
            "/tmp/ipython-input-2811857382.py:34: FutureWarning: 'H' is deprecated and will be removed in a future version, please use 'h' instead.\n",
            "  test = test.sort_values(\"Timestamp\").set_index(\"Timestamp\").asfreq(\"H\")\n"
          ]
        }
      ],
      "source": [
        "# I chose the Exponential Smoothing (Holt-Winters) model\n",
        "\n",
        "# assignment1.py\n",
        "\n",
        "import numpy as np\n",
        "import pandas as pd\n",
        "from statsmodels.tsa.holtwinters import ExponentialSmoothing\n",
        "\n",
        "# 读取数据\n",
        "TRAIN_URL = \"https://github.com/dustywhite7/econ8310-assignment1/raw/main/assignment_data_train.csv\"\n",
        "TEST_URL = \"https://github.com/dustywhite7/econ8310-assignment1/raw/main/assignment_data_test.csv\"\n",
        "\n",
        "# 读取训练数据\n",
        "train = pd.read_csv(TRAIN_URL, parse_dates=[\"Timestamp\"])\n",
        "train = train.sort_values(\"Timestamp\").set_index(\"Timestamp\").asfreq(\"H\")\n",
        "\n",
        "# 处理目标变量 - 转换为数值并处理缺失值\n",
        "y_train = pd.to_numeric(train[\"trips\"], errors=\"coerce\")\n",
        "y_train = y_train.interpolate(method=\"time\", limit_direction=\"both\")\n",
        "\n",
        "# 创建并拟合指数平滑模型\n",
        "model = ExponentialSmoothing(\n",
        "    y_train,\n",
        "    trend=\"add\",\n",
        "    seasonal=\"add\",\n",
        "    seasonal_periods=24*7,  # 每周季节性 (24小时*7天)\n",
        "    initialization_method=\"estimated\"\n",
        ")\n",
        "\n",
        "modelFit = model.fit(optimized=True, use_brute=True)\n",
        "\n",
        "# 读取测试数据\n",
        "test = pd.read_csv(TEST_URL, parse_dates=[\"Timestamp\"])\n",
        "test = test.sort_values(\"Timestamp\").set_index(\"Timestamp\").asfreq(\"H\")\n",
        "\n",
        "# 生成预测 (744小时，即2019年1月)\n",
        "h = len(test)\n",
        "forecast = modelFit.forecast(steps=h)\n",
        "\n",
        "# 确保预测结果是长度为744的一维numpy数组\n",
        "pred = np.asarray(forecast, dtype=float).ravel()\n",
        "\n",
        "# 确保预测结果没有负值（出租车行程数不能为负）\n",
        "pred = np.maximum(pred, 0)\n",
        "\n",
        "# 5) 拟合\n",
        "modelFit = model.fit(optimized=True, use_brute=True)\n",
        "\n",
        "# 6) 预测：和测试集等长（测试集有 744 行）\n",
        "h = len(test)\n",
        "forecast = modelFit.forecast(steps=h)\n",
        "\n",
        "# 7) 按测试要求输出：一维数值 numpy 数组（长度 744）\n",
        "pred = np.asarray(forecast, dtype=float).ravel()\n"
      ]
    }
  ],
  "metadata": {
    "kernelspec": {
      "display_name": "Python 3 (ipykernel)",
      "language": "python",
      "name": "python3"
    },
    "language_info": {
      "codemirror_mode": {
        "name": "ipython",
        "version": 3
      },
      "file_extension": ".py",
      "mimetype": "text/x-python",
      "name": "python",
      "nbconvert_exporter": "python",
      "pygments_lexer": "ipython3",
      "version": "3.9.13"
    },
    "colab": {
      "provenance": []
    }
  },
  "nbformat": 4,
  "nbformat_minor": 5
}