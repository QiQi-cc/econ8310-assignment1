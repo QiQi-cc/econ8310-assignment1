{
  "cells": [
    {
      "cell_type": "code",
      "execution_count": 11,
      "id": "098b2971-5d7a-4d7f-aec2-3400a31a72b0",
      "metadata": {
        "id": "098b2971-5d7a-4d7f-aec2-3400a31a72b0",
        "colab": {
          "base_uri": "https://localhost:8080/"
        },
        "outputId": "d077d89a-644f-46ff-f8f3-22d3ce30247e"
      },
      "outputs": [
        {
          "output_type": "stream",
          "name": "stderr",
          "text": [
            "/tmp/ipython-input-3476913728.py:13: FutureWarning: 'H' is deprecated and will be removed in a future version, please use 'h' instead.\n",
            "  train = train.set_index(\"Timestamp\").asfreq(\"H\").sort_index()\n"
          ]
        }
      ],
      "source": [
        "# I chose the Exponential Smoothing (Holt-Winters) model\n",
        "\n",
        "import numpy as np\n",
        "import pandas as pd\n",
        "from statsmodels.tsa.holtwinters import ExponentialSmoothing\n",
        "\n",
        "# 1. Load train/test\n",
        "train = pd.read_csv(\"https://raw.githubusercontent.com/dustywhite7/econ8310-assignment1/main/assignment_data_train.csv\")\n",
        "test  = pd.read_csv(\"https://raw.githubusercontent.com/dustywhite7/econ8310-assignment1/main/assignment_data_test.csv\")\n",
        "\n",
        "# 2. 时间戳处理\n",
        "train[\"Timestamp\"] = pd.to_datetime(train[\"Timestamp\"])\n",
        "train = train.set_index(\"Timestamp\").asfreq(\"H\").sort_index()\n",
        "y_train = train[\"trips\"].interpolate(limit_direction=\"both\")\n",
        "\n",
        "# 3. 建模 (Holt-Winters)\n",
        "model = ExponentialSmoothing(\n",
        "    y_train,\n",
        "    trend=\"add\",\n",
        "    seasonal=\"add\",\n",
        "    seasonal_periods=24,   # 一天24小时\n",
        "    initialization_method=\"estimated\"\n",
        ")\n",
        "modelFit = model.fit(optimized=True, use_brute=True)\n",
        "\n",
        "# 4. 预测\n",
        "h = len(test)\n",
        "forecast = modelFit.forecast(steps=h)\n",
        "pred = np.asarray(forecast).ravel()\n"
      ]
    }
  ],
  "metadata": {
    "kernelspec": {
      "display_name": "Python 3 (ipykernel)",
      "language": "python",
      "name": "python3"
    },
    "language_info": {
      "codemirror_mode": {
        "name": "ipython",
        "version": 3
      },
      "file_extension": ".py",
      "mimetype": "text/x-python",
      "name": "python",
      "nbconvert_exporter": "python",
      "pygments_lexer": "ipython3",
      "version": "3.9.13"
    },
    "colab": {
      "provenance": []
    }
  },
  "nbformat": 4,
  "nbformat_minor": 5
}