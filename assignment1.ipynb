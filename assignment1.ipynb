{
  "cells": [
    {
      "cell_type": "code",
      "execution_count": 6,
      "id": "098b2971-5d7a-4d7f-aec2-3400a31a72b0",
      "metadata": {
        "id": "098b2971-5d7a-4d7f-aec2-3400a31a72b0",
        "colab": {
          "base_uri": "https://localhost:8080/"
        },
        "outputId": "86f878e2-6ce9-4034-9562-124be856bade"
      },
      "outputs": [
        {
          "output_type": "stream",
          "name": "stderr",
          "text": [
            "/tmp/ipython-input-4203514758.py:16: FutureWarning: 'H' is deprecated and will be removed in a future version, please use 'h' instead.\n",
            "  train_df = train_df.set_index('Timestamp').sort_index().asfreq('H')\n",
            "/tmp/ipython-input-4203514758.py:23: FutureWarning: Series.fillna with 'method' is deprecated and will raise in a future version. Use obj.ffill() or obj.bfill() instead.\n",
            "  y_train = y_train.fillna(method='ffill').fillna(method='bfill')\n"
          ]
        }
      ],
      "source": [
        "# I chose the Exponential Smoothing (Holt-Winters) model\n",
        "\n",
        "# assignment1.py - Complete and Correct Solution\n",
        "\n",
        "import numpy as np\n",
        "import pandas as pd\n",
        "from statsmodels.tsa.holtwinters import ExponentialSmoothing\n",
        "\n",
        "# Read data from the provided URLs\n",
        "TRAIN_URL = \"https://github.com/dustywhite7/econ8310-assignment1/raw/main/assignment_data_train.csv\"\n",
        "TEST_URL = \"https://github.com/dustywhite7/econ8310-assignment1/raw/main/assignment_data_test.csv\"\n",
        "\n",
        "# Load and preprocess the training data\n",
        "train_df = pd.read_csv(TRAIN_URL)\n",
        "train_df['Timestamp'] = pd.to_datetime(train_df['Timestamp'])\n",
        "train_df = train_df.set_index('Timestamp').sort_index().asfreq('H')\n",
        "\n",
        "# Extract and prepare the target variable\n",
        "y_train = train_df['trips'].copy()\n",
        "y_train = pd.to_numeric(y_train, errors='coerce')\n",
        "\n",
        "# Handle missing values - forward fill then backward fill\n",
        "y_train = y_train.fillna(method='ffill').fillna(method='bfill')\n",
        "\n",
        "# Create the Exponential Smoothing model (unfitted instance)\n",
        "model = ExponentialSmoothing(\n",
        "    y_train,\n",
        "    trend='add',\n",
        "    seasonal='add',\n",
        "    seasonal_periods=168,  # Weekly seasonality (24*7=168 hours)\n",
        "    initialization_method='estimated'\n",
        ")\n",
        "\n",
        "# Fit the model to create modelFit\n",
        "modelFit = model.fit(\n",
        "    optimized=True,\n",
        "    use_brute=True,\n",
        "    remove_bias=True\n",
        ")\n",
        "\n",
        "# Load the test data\n",
        "test_df = pd.read_csv(TEST_URL)\n",
        "test_df['Timestamp'] = pd.to_datetime(test_df['Timestamp'])\n",
        "\n",
        "# Generate forecasts for January 2019 (744 hours)\n",
        "forecast = modelFit.forecast(steps=744)\n",
        "\n",
        "# Convert to the exact format required by the autograder\n",
        "pred = np.array(forecast, dtype=np.float64).flatten()\n",
        "\n",
        "# Ensure no negative predictions\n",
        "pred = np.clip(pred, 0, None)\n",
        "\n",
        "# Verify the output format meets requirements\n",
        "assert len(pred) == 744, f\"Prediction length should be 744, got {len(pred)}\"\n",
        "assert isinstance(pred, np.ndarray), \"Prediction should be a numpy array\"\n",
        "assert pred.ndim == 1, \"Prediction should be 1-dimensional\""
      ]
    }
  ],
  "metadata": {
    "kernelspec": {
      "display_name": "Python 3 (ipykernel)",
      "language": "python",
      "name": "python3"
    },
    "language_info": {
      "codemirror_mode": {
        "name": "ipython",
        "version": 3
      },
      "file_extension": ".py",
      "mimetype": "text/x-python",
      "name": "python",
      "nbconvert_exporter": "python",
      "pygments_lexer": "ipython3",
      "version": "3.9.13"
    },
    "colab": {
      "provenance": []
    }
  },
  "nbformat": 4,
  "nbformat_minor": 5
}