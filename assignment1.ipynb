{
  "cells": [
    {
      "cell_type": "markdown",
      "source": [
        "# I chose the Exponential Smoothing (Holt-Winters) model\n",
        "\n",
        "\n",
        "import os\n",
        "import pandas as pd\n",
        "import numpy as np\n",
        "from statsmodels.tsa.holtwinters import ExponentialSmoothing\n",
        "\n",
        "# 1. Load data\n",
        "base_dir = os.getcwd()   \n",
        "train_file = os.path.join(base_dir, \"assignment_data_train.csv\")\n",
        "test_file = os.path.join(base_dir, \"assignment_data_test.csv\")\n",
        "\n",
        "if os.path.exists(train_file) and os.path.exists(test_file):\n",
        "    train_df = pd.read_csv(train_file)\n",
        "    test_df = pd.read_csv(test_file)\n",
        "else:\n",
        "    raise FileNotFoundError(\"Cannot find training/testing CSV files in current or parent directory.\")\n",
        "\n",
        "# 2. Prepare data\n",
        "train_df = train_df.sort_values(\"Timestamp\").set_index(\"Timestamp\")\n",
        "test_df = test_df.sort_values(\"Timestamp\").set_index(\"Timestamp\")\n",
        "\n",
        "train_y = train_df[\"SystemLoadEA\"].astype(float).values\n",
        "test_y = test_df[\"SystemLoadEA\"].astype(float).values\n",
        "\n",
        "# 3. Train model\n",
        "model = ExponentialSmoothing(train_y, trend=\"add\", seasonal=\"add\", seasonal_periods=24)\n",
        "modelFit = model.fit()\n",
        "\n",
        "# 4. Forecast\n",
        "pred = np.asarray(modelFit.forecast(len(test_y)))\n",
        "\n",
        "import os\n",
        "print(os.listdir())\n",
        "\n"
      ],
      "metadata": {
        "id": "098b2971-5d7a-4d7f-aec2-3400a31a72b0"
      },
      "id": "098b2971-5d7a-4d7f-aec2-3400a31a72b0"
    },
    {
      "cell_type": "code",
      "source": [
        "import os\n",
        "print(os.listdir())\n",
        "\n",
        "\n"
      ],
      "metadata": {
        "colab": {
          "base_uri": "https://localhost:8080/"
        },
        "id": "W2l58Xrxn-lT",
        "outputId": "b38f423e-6ed6-46d7-aeba-9487dab6b718"
      },
      "id": "W2l58Xrxn-lT",
      "execution_count": 26,
      "outputs": [
        {
          "output_type": "stream",
          "name": "stdout",
          "text": [
            "['.config', 'assignment_data_test.csv', 'assignment_data_train.csv', 'sample_data']\n"
          ]
        }
      ]
    },
    {
      "cell_type": "code",
      "source": [
        "import pandas as pd\n",
        "\n",
        "# 读两份 CSV（你当前目录已经能看到它们）\n",
        "train_df = pd.read_csv(\"assignment_data_train.csv\")\n",
        "test_df  = pd.read_csv(\"assignment_data_test.csv\")\n",
        "\n",
        "print(\"Train columns:\", list(train_df.columns))\n",
        "print(\"Test  columns:\", list(test_df.columns))\n",
        "print()\n",
        "print(train_df.head(3))\n",
        "\n"
      ],
      "metadata": {
        "id": "_krKcePKwoWp",
        "outputId": "3d9037de-f83d-49fa-cfa0-9550efb1d503",
        "colab": {
          "base_uri": "https://localhost:8080/"
        }
      },
      "id": "_krKcePKwoWp",
      "execution_count": 28,
      "outputs": [
        {
          "output_type": "stream",
          "name": "stdout",
          "text": [
            "Train columns: ['Timestamp', 'year', 'month', 'day', 'hour', 'trips']\n",
            "Test  columns: ['Timestamp', 'year', 'month', 'day', 'hour']\n",
            "\n",
            "             Timestamp  year  month  day  hour  trips\n",
            "0  2018-01-01 00:00:00  2018      1    1     0  16714\n",
            "1  2018-01-01 01:00:00  2018      1    1     1  19041\n",
            "2  2018-01-01 02:00:00  2018      1    1     2  16590\n"
          ]
        }
      ]
    },
    {
      "cell_type": "code",
      "source": [
        "import numpy as np\n",
        "import pandas as pd\n",
        "from statsmodels.tsa.holtwinters import ExponentialSmoothing\n",
        "\n",
        "# 1) Load\n",
        "train_df = pd.read_csv(\"assignment_data_train.csv\")\n",
        "test_df  = pd.read_csv(\"assignment_data_test.csv\")\n",
        "\n",
        "# 2) Prepare data\n",
        "train_df[\"Timestamp\"] = pd.to_datetime(train_df[\"Timestamp\"], errors=\"coerce\")\n",
        "test_df[\"Timestamp\"]  = pd.to_datetime(test_df[\"Timestamp\"], errors=\"coerce\")\n",
        "\n",
        "train_df = train_df.sort_values(\"Timestamp\").set_index(\"Timestamp\").asfreq(\"h\")\n",
        "test_df  = test_df.sort_values(\"Timestamp\").set_index(\"Timestamp\").asfreq(\"h\")\n",
        "\n",
        "train_y = pd.to_numeric(train_df[\"trips\"], errors=\"coerce\")\n",
        "train_y = train_y.interpolate(method=\"time\").ffill().bfill()\n",
        "\n",
        "#3) Train model\n",
        "model = ExponentialSmoothing(\n",
        "    train_y,\n",
        "    trend=\"add\",\n",
        "    seasonal=\"add\",\n",
        "    seasonal_periods=24,\n",
        "    initialization_method=\"estimated\"\n",
        ")\n",
        "modelFit = model.fit(optimized=True, use_brute=True)\n",
        "\n",
        "# 4) Forecast\n",
        "h = len(test_df)\n",
        "forecast = modelFit.forecast(steps=h)\n",
        "\n",
        "pred = np.maximum(np.asarray(forecast, dtype=float).ravel(), 0.0)\n",
        "\n",
        "# Debug\n",
        "print(\"Train shape:\", train_df.shape, \"Test shape:\", test_df.shape)\n",
        "print(\"Prediction length:\", len(pred))\n",
        "print(\"First 5 predictions:\", pred[:5])\n"
      ],
      "metadata": {
        "colab": {
          "base_uri": "https://localhost:8080/"
        },
        "id": "u-_t7R7yob5I",
        "outputId": "724b2815-cc7f-4aec-f6c8-64abf65b7a7d"
      },
      "id": "u-_t7R7yob5I",
      "execution_count": 30,
      "outputs": [
        {
          "output_type": "stream",
          "name": "stdout",
          "text": [
            "Train shape: (8760, 5) Test shape: (744, 4)\n",
            "Prediction length: 744\n",
            "First 5 predictions: [5606.1097574  3577.85981238 2565.74546374 2151.00488427 2202.56732959]\n"
          ]
        }
      ]
    }
  ],
  "metadata": {
    "kernelspec": {
      "display_name": "Python 3 (ipykernel)",
      "language": "python",
      "name": "python3"
    },
    "language_info": {
      "codemirror_mode": {
        "name": "ipython",
        "version": 3
      },
      "file_extension": ".py",
      "mimetype": "text/x-python",
      "name": "python",
      "nbconvert_exporter": "python",
      "pygments_lexer": "ipython3",
      "version": "3.9.13"
    },
    "colab": {
      "provenance": []
    }
  },
  "nbformat": 4,
  "nbformat_minor": 5
}