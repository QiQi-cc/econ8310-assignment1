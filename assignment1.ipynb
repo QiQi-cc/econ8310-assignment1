{
  "cells": [
    {
      "cell_type": "code",
      "execution_count": 16,
      "id": "098b2971-5d7a-4d7f-aec2-3400a31a72b0",
      "metadata": {
        "id": "098b2971-5d7a-4d7f-aec2-3400a31a72b0",
        "colab": {
          "base_uri": "https://localhost:8080/"
        },
        "outputId": "cf9d7f52-df6b-45c5-b0b5-c72ec5502f32"
      },
      "outputs": [
        {
          "output_type": "stream",
          "name": "stderr",
          "text": [
            "/tmp/ipython-input-687737544.py:17: FutureWarning: 'H' is deprecated and will be removed in a future version, please use 'h' instead.\n",
            "  train = train.sort_values(\"Timestamp\").set_index(\"Timestamp\").asfreq(\"H\")\n"
          ]
        }
      ],
      "source": [
        "# I chose the Exponential Smoothing (Holt-Winters) model\n",
        "\n",
        "# assignment1.py  —— 放在仓库根目录\n",
        "\n",
        "import numpy as np\n",
        "import pandas as pd\n",
        "from statsmodels.tsa.holtwinters import ExponentialSmoothing\n",
        "\n",
        "# 1) 用 RAW 链接读取（Actions 环境没有你的本地文件）\n",
        "TRAIN_URL = \"https://raw.githubusercontent.com/dustywhite7/econ8310-assignment1/main/assignment_data_train.csv\"\n",
        "TEST_URL  = \"https://raw.githubusercontent.com/dustywhite7/econ8310-assignment1/main/assignment_data_test.csv\"\n",
        "\n",
        "# 2) 读数据并把时间设为小时频率索引\n",
        "train = pd.read_csv(TRAIN_URL, parse_dates=[\"Timestamp\"])\n",
        "test  = pd.read_csv(TEST_URL,  parse_dates=[\"Timestamp\"])\n",
        "\n",
        "train = train.sort_values(\"Timestamp\").set_index(\"Timestamp\").asfreq(\"H\")\n",
        "\n",
        "# 3) 目标序列：转成数值并插值补齐\n",
        "y_train = pd.to_numeric(train[\"trips\"], errors=\"coerce\").interpolate(limit_direction=\"both\")\n",
        "\n",
        "# 4) 建模：Holt-Winters（加性趋势+加性季节，24 小时季节性）\n",
        "model = ExponentialSmoothing(\n",
        "    y_train,\n",
        "    trend=\"add\",\n",
        "    seasonal=\"add\",\n",
        "    seasonal_periods=24,\n",
        "    initialization_method=\"estimated\",\n",
        ")\n",
        "\n",
        "# 5) 拟合\n",
        "modelFit = model.fit(optimized=True, use_brute=True)\n",
        "\n",
        "# 6) 预测：和测试集等长（测试集有 744 行）\n",
        "h = len(test)\n",
        "forecast = modelFit.forecast(steps=h)\n",
        "\n",
        "# 7) 按测试要求输出：一维数值 numpy 数组（长度 744）\n",
        "pred = np.asarray(forecast, dtype=float).ravel()\n"
      ]
    }
  ],
  "metadata": {
    "kernelspec": {
      "display_name": "Python 3 (ipykernel)",
      "language": "python",
      "name": "python3"
    },
    "language_info": {
      "codemirror_mode": {
        "name": "ipython",
        "version": 3
      },
      "file_extension": ".py",
      "mimetype": "text/x-python",
      "name": "python",
      "nbconvert_exporter": "python",
      "pygments_lexer": "ipython3",
      "version": "3.9.13"
    },
    "colab": {
      "provenance": []
    }
  },
  "nbformat": 4,
  "nbformat_minor": 5
}