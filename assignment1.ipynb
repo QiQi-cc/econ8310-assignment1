{
  "cells": [
    {
      "cell_type": "code",
      "execution_count": 4,
      "id": "098b2971-5d7a-4d7f-aec2-3400a31a72b0",
      "metadata": {
        "colab": {
          "base_uri": "https://localhost:8080/"
        },
        "id": "098b2971-5d7a-4d7f-aec2-3400a31a72b0",
        "outputId": "fc9d6d0f-e5c9-4aba-da1c-32f557695c45"
      },
      "outputs": [
        {
          "output_type": "stream",
          "name": "stderr",
          "text": [
            "/usr/local/lib/python3.12/dist-packages/statsmodels/tsa/base/tsa_model.py:473: ValueWarning: No frequency information was provided, so inferred frequency h will be used.\n",
            "  self._init_dates(dates, freq)\n"
          ]
        }
      ],
      "source": [
        "# I chose the Exponential Smoothing (Holt-Winters) model\n",
        "\n",
        "\n",
        "import os\n",
        "import pandas as pd\n",
        "from statsmodels.tsa.holtwinters import ExponentialSmoothing\n",
        "\n",
        "\n",
        "# 1) Load data\n",
        "try:\n",
        "    HERE = os.path.dirname(__file__)\n",
        "except NameError:\n",
        "    HERE = os.getcwd()  # Jupyter/Colab fallback\n",
        "\n",
        "TRAIN_PATH = os.path.join(HERE, \"assignment_data_train.csv\")\n",
        "TEST_PATH  = os.path.join(HERE, \"assignment_data_test.csv\")\n",
        "\n",
        "if os.path.exists(TRAIN_PATH) and os.path.exists(TEST_PATH):\n",
        "    train = pd.read_csv(TRAIN_PATH, parse_dates=[\"Timestamp\"])\n",
        "    test  = pd.read_csv(TEST_PATH,  parse_dates=[\"Timestamp\"])\n",
        "else:\n",
        "\n",
        "    TRAIN_PATH = \"https://raw.githubusercontent.com/dustywhite7/econ8310-assignment1/main/assignment_data_train.csv\"\n",
        "    TEST_PATH  = \"https://raw.githubusercontent.com/dustywhite7/econ8310-assignment1/main/assignment_data_test.csv\"\n",
        "    train = pd.read_csv(TRAIN_PATH, parse_dates=[\"Timestamp\"])\n",
        "    test  = pd.read_csv(TEST_PATH,  parse_dates=[\"Timestamp\"])\n",
        "\n",
        "\n",
        "train = train.sort_values(\"Timestamp\").set_index(\"Timestamp\")\n",
        "y = pd.to_numeric(train[\"trips\"], errors=\"coerce\")\n",
        "\n",
        "\n",
        "# 2) Define algorithm object and fit\n",
        "\n",
        "\n",
        "model = ExponentialSmoothing(y, trend=\"add\", seasonal=\"add\", seasonal_periods=24)\n",
        "modelFit = model.fit(optimized=True)\n",
        "\n",
        "\n",
        "# 3) Forecast\n",
        "h = len(test)\n",
        "_fc = modelFit.forecast(steps=h)\n",
        "pred = pd.Series(_fc, index=pd.to_datetime(test[\"Timestamp\"]))\n"
      ]
    }
  ],
  "metadata": {
    "kernelspec": {
      "display_name": "Python 3 (ipykernel)",
      "language": "python",
      "name": "python3"
    },
    "language_info": {
      "codemirror_mode": {
        "name": "ipython",
        "version": 3
      },
      "file_extension": ".py",
      "mimetype": "text/x-python",
      "name": "python",
      "nbconvert_exporter": "python",
      "pygments_lexer": "ipython3",
      "version": "3.9.13"
    },
    "colab": {
      "provenance": []
    }
  },
  "nbformat": 4,
  "nbformat_minor": 5
}