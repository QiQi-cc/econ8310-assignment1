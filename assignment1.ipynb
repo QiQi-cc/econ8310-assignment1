{
  "cells": [
    {
      "cell_type": "code",
      "execution_count": 3,
      "id": "098b2971-5d7a-4d7f-aec2-3400a31a72b0",
      "metadata": {
        "colab": {
          "base_uri": "https://localhost:8080/"
        },
        "id": "098b2971-5d7a-4d7f-aec2-3400a31a72b0",
        "outputId": "e25610c9-b799-43dd-e4ec-11bac688d915"
      },
      "outputs": [
        {
          "output_type": "stream",
          "name": "stderr",
          "text": [
            "/usr/local/lib/python3.12/dist-packages/statsmodels/tsa/base/tsa_model.py:473: ValueWarning: No frequency information was provided, so inferred frequency h will be used.\n",
            "  self._init_dates(dates, freq)\n"
          ]
        }
      ],
      "source": [
        "# I chose the Exponential Smoothing (Holt-Winters) model\n",
        "\n",
        "# assignment1.py\n",
        "# I chose the Exponential Smoothing (Holt-Winters) model.\n",
        "\n",
        "import os\n",
        "import pandas as pd\n",
        "from statsmodels.tsa.holtwinters import ExponentialSmoothing\n",
        "\n",
        "# -----------------------------\n",
        "# 1) Algorithm (callable): returns an UNFITTED model\n",
        "# -----------------------------\n",
        "def model(train_df: pd.DataFrame):\n",
        "    \"\"\"\n",
        "    Holt-Winters Exponential Smoothing with additive trend & seasonality.\n",
        "    Expects columns ['Timestamp','trips'] in train_df (Timestamp is datetime-like).\n",
        "    Returns an UNFITTED statsmodels model instance.\n",
        "    \"\"\"\n",
        "    y_ = (\n",
        "        train_df.sort_values(\"Timestamp\")\n",
        "                .set_index(\"Timestamp\")[\"trips\"]\n",
        "    )\n",
        "    return ExponentialSmoothing(\n",
        "        y_,\n",
        "        trend=\"add\",\n",
        "        seasonal=\"add\",\n",
        "        seasonal_periods=168   # 24*7 weekly seasonality\n",
        "    )\n",
        "\n",
        "# -----------------------------\n",
        "# 2) Load local CSVs and fit the model\n",
        "# -----------------------------\n",
        "try:\n",
        "    HERE = os.path.dirname(__file__)\n",
        "except NameError:\n",
        "    HERE = os.getcwd()  # fallback for Jupyter/Colab\n",
        "\n",
        "TRAIN_PATH = \"https://raw.githubusercontent.com/dustywhite7/econ8310-assignment1/main/assignment_data_train.csv\"\n",
        "TEST_PATH  = \"https://raw.githubusercontent.com/dustywhite7/econ8310-assignment1/main/assignment_data_test.csv\"\n",
        "\n",
        "train = pd.read_csv(TRAIN_PATH, parse_dates=[\"Timestamp\"])\n",
        "test  = pd.read_csv(TEST_PATH,  parse_dates=[\"Timestamp\"])\n",
        "\n",
        "\n",
        "modelFit = model(train[[\"Timestamp\", \"trips\"]]).fit()\n",
        "\n",
        "# -----------------------------\n",
        "# 3) Forecast the test horizon and expose `pred`\n",
        "# -----------------------------\n",
        "h = len(test)\n",
        "_fc = modelFit.forecast(steps=h)\n",
        "pred = pd.Series(_fc, index=pd.to_datetime(test[\"Timestamp\"]))\n"
      ]
    }
  ],
  "metadata": {
    "kernelspec": {
      "display_name": "Python 3 (ipykernel)",
      "language": "python",
      "name": "python3"
    },
    "language_info": {
      "codemirror_mode": {
        "name": "ipython",
        "version": 3
      },
      "file_extension": ".py",
      "mimetype": "text/x-python",
      "name": "python",
      "nbconvert_exporter": "python",
      "pygments_lexer": "ipython3",
      "version": "3.9.13"
    },
    "colab": {
      "provenance": []
    }
  },
  "nbformat": 4,
  "nbformat_minor": 5
}