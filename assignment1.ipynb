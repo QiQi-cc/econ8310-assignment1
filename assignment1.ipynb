{
  "cells": [
    {
      "cell_type": "code",
      "execution_count": 12,
      "id": "098b2971-5d7a-4d7f-aec2-3400a31a72b0",
      "metadata": {
        "id": "098b2971-5d7a-4d7f-aec2-3400a31a72b0",
        "colab": {
          "base_uri": "https://localhost:8080/"
        },
        "outputId": "4071f31b-6945-4fd4-e161-44c6e8501e8b"
      },
      "outputs": [
        {
          "output_type": "stream",
          "name": "stderr",
          "text": [
            "/tmp/ipython-input-228930099.py:17: FutureWarning: 'H' is deprecated and will be removed in a future version, please use 'h' instead.\n",
            "  train_df = train_df.sort_values(\"Timestamp\").set_index(\"Timestamp\").asfreq(\"H\")\n"
          ]
        }
      ],
      "source": [
        "# I chose the Exponential Smoothing (Holt-Winters) model\n",
        "\n",
        "# assignment1.py  —— paste this whole file\n",
        "\n",
        "import pandas as pd\n",
        "import numpy as np\n",
        "from statsmodels.tsa.holtwinters import ExponentialSmoothing\n",
        "\n",
        "# ---- 1) load train / test data from raw URLs (works in Colab AND GitHub Actions) ----\n",
        "TRAIN_URL = \"https://raw.githubusercontent.com/dustywhite7/econ8310-assignment1/main/assignment_data_train.csv\"\n",
        "TEST_URL  = \"https://raw.githubusercontent.com/dustywhite7/econ8310-assignment1/main/assignment_data_test.csv\"\n",
        "\n",
        "train_df = pd.read_csv(TRAIN_URL, parse_dates=[\"Timestamp\"])\n",
        "test_df  = pd.read_csv(TEST_URL,  parse_dates=[\"Timestamp\"])\n",
        "\n",
        "# sort + set hourly freq so statsmodels knows the frequency\n",
        "train_df = train_df.sort_values(\"Timestamp\").set_index(\"Timestamp\").asfreq(\"H\")\n",
        "\n",
        "# numeric target with simple gap fill\n",
        "y_train = (\n",
        "    pd.to_numeric(train_df[\"trips\"], errors=\"coerce\")\n",
        "    .astype(float)\n",
        "    .interpolate(limit_direction=\"both\")\n",
        ")\n",
        "\n",
        "# ---- 2) build the model object (do NOT call .fit() here) ----\n",
        "model = ExponentialSmoothing(\n",
        "    y_train,\n",
        "    trend=\"add\",\n",
        "    seasonal=\"add\",\n",
        "    seasonal_periods=24,\n",
        "    initialization_method=\"estimated\",\n",
        ")\n",
        "\n",
        "# ---- 3) fit the model ----\n",
        "modelFit = model.fit(optimized=True, use_brute=True)\n",
        "\n",
        "# ---- 4) forecast exactly len(test) steps and expose as 1-D Python floats ----\n",
        "h = len(test_df)\n",
        "_fc = modelFit.forecast(steps=h)\n",
        "\n",
        "# IMPORTANT: make it a plain Python-list of floats, not numpy.float64\n",
        "pred = list(map(float, np.asarray(_fc).ravel()))\n"
      ]
    }
  ],
  "metadata": {
    "kernelspec": {
      "display_name": "Python 3 (ipykernel)",
      "language": "python",
      "name": "python3"
    },
    "language_info": {
      "codemirror_mode": {
        "name": "ipython",
        "version": 3
      },
      "file_extension": ".py",
      "mimetype": "text/x-python",
      "name": "python",
      "nbconvert_exporter": "python",
      "pygments_lexer": "ipython3",
      "version": "3.9.13"
    },
    "colab": {
      "provenance": []
    }
  },
  "nbformat": 4,
  "nbformat_minor": 5
}