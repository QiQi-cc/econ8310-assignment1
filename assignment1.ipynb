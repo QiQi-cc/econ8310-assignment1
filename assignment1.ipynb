{
  "cells": [
    {
      "cell_type": "code",
      "execution_count": 5,
      "id": "098b2971-5d7a-4d7f-aec2-3400a31a72b0",
      "metadata": {
        "id": "098b2971-5d7a-4d7f-aec2-3400a31a72b0",
        "outputId": "3640da79-7aed-427b-d5ec-bcd8fcf2f77b",
        "colab": {
          "base_uri": "https://localhost:8080/"
        }
      },
      "outputs": [
        {
          "output_type": "stream",
          "name": "stderr",
          "text": [
            "/usr/local/lib/python3.12/dist-packages/statsmodels/tsa/base/tsa_model.py:473: ValueWarning: No frequency information was provided, so inferred frequency h will be used.\n",
            "  self._init_dates(dates, freq)\n"
          ]
        }
      ],
      "source": [
        "# I chose the Exponential Smoothing (Holt-Winters) model\n",
        "\n",
        "import pandas as pd\n",
        "from statsmodels.tsa.holtwinters import ExponentialSmoothing\n",
        "\n",
        "# Load data\n",
        "train = pd.read_csv(\" https://github.com/dustywhite7/econ8310-assignment1/raw/main/assignment_data_train.csv\", parse_dates=[\"Timestamp\"])\n",
        "test  = pd.read_csv(\"https://github.com/dustywhite7/econ8310-assignment1/raw/main/assignment_data_test.csv\",  parse_dates=[\"Timestamp\"])\n",
        "\n",
        "train = train.sort_values(\"Timestamp\").set_index(\"Timestamp\")\n",
        "y = train[\"trips\"]\n",
        "\n",
        "# fit the model\n",
        "model = ExponentialSmoothing(y, trend=\"add\", seasonal=\"add\", seasonal_periods=24)\n",
        "modelFit = model.fit()\n",
        "\n",
        "# Forecast\n",
        "h = len(test)\n",
        "pred = modelFit.forecast(steps=h)\n",
        "\n"
      ]
    }
  ],
  "metadata": {
    "kernelspec": {
      "display_name": "Python 3 (ipykernel)",
      "language": "python",
      "name": "python3"
    },
    "language_info": {
      "codemirror_mode": {
        "name": "ipython",
        "version": 3
      },
      "file_extension": ".py",
      "mimetype": "text/x-python",
      "name": "python",
      "nbconvert_exporter": "python",
      "pygments_lexer": "ipython3",
      "version": "3.9.13"
    },
    "colab": {
      "provenance": []
    }
  },
  "nbformat": 4,
  "nbformat_minor": 5
}