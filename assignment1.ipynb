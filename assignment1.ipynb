{
  "cells": [
    {
      "cell_type": "code",
      "execution_count": 19,
      "id": "098b2971-5d7a-4d7f-aec2-3400a31a72b0",
      "metadata": {
        "id": "098b2971-5d7a-4d7f-aec2-3400a31a72b0",
        "colab": {
          "base_uri": "https://localhost:8080/"
        },
        "outputId": "5e5a31ab-69af-4d33-e4e3-5ded2f8769f5"
      },
      "outputs": [
        {
          "output_type": "stream",
          "name": "stdout",
          "text": [
            "Train shape: (8760, 5)\n",
            "Test shape: (744, 5)\n",
            "Prediction length: 744\n",
            "First 5 predictions: [5606.1097574  3577.85981238 2565.74546374 2151.00488427 2202.56732959]\n"
          ]
        }
      ],
      "source": [
        "# I chose the Exponential Smoothing (Holt-Winters) model\n",
        "\n",
        "\n",
        "import os\n",
        "import pandas as pd\n",
        "import numpy as np\n",
        "from statsmodels.tsa.holtwinters import ExponentialSmoothing\n",
        "\n",
        "train_file = \"assignment_data_train.csv\"\n",
        "test_file = \"assignment_data_test.csv\"\n",
        "\n",
        "train_url = \"https://raw.githubusercontent.com/dustywhite7/econ8310-assignment1/main/assignment_data_train.csv\"\n",
        "test_url = \"https://raw.githubusercontent.com/dustywhite7/econ8310-assignment1/main/assignment_data_test.csv\"\n",
        "\n",
        "# Load train\n",
        "if os.path.exists(train_file):\n",
        "    train_df = pd.read_csv(train_file, parse_dates=[\"Timestamp\"])\n",
        "else:\n",
        "    train_df = pd.read_csv(train_url, parse_dates=[\"Timestamp\"])\n",
        "\n",
        "# Load test\n",
        "if os.path.exists(test_file):\n",
        "    test_df = pd.read_csv(test_file, parse_dates=[\"Timestamp\"])\n",
        "else:\n",
        "    test_df = pd.read_csv(test_url, parse_dates=[\"Timestamp\"])\n",
        "\n",
        "# Preprocess\n",
        "train_df = train_df.sort_values(\"Timestamp\").set_index(\"Timestamp\").asfreq(\"h\")\n",
        "y_train = pd.to_numeric(train_df[\"trips\"], errors=\"coerce\").interpolate(method=\"time\")\n",
        "\n",
        "# Model\n",
        "model = ExponentialSmoothing(\n",
        "    y_train,\n",
        "    trend=\"add\",\n",
        "    seasonal=\"add\",\n",
        "    seasonal_periods=24,\n",
        "    initialization_method=\"estimated\"\n",
        ")\n",
        "\n",
        "# Fit\n",
        "modelFit = model.fit(optimized=True, use_brute=True)\n",
        "\n",
        "# Forecast\n",
        "h = len(test_df)\n",
        "forecast = modelFit.forecast(steps=h)\n",
        "\n",
        "pred = np.asarray(forecast, dtype=float).ravel()\n",
        "pred = np.maximum(pred, 0)\n",
        "\n",
        "# Debug / check (only in ipynb)\n",
        "print(\"Train shape:\", train_df.shape)\n",
        "print(\"Test shape:\", test_df.shape)\n",
        "print(\"Prediction length:\", len(pred))\n",
        "print(\"First 5 predictions:\", pred[:5])\n"
      ]
    }
  ],
  "metadata": {
    "kernelspec": {
      "display_name": "Python 3 (ipykernel)",
      "language": "python",
      "name": "python3"
    },
    "language_info": {
      "codemirror_mode": {
        "name": "ipython",
        "version": 3
      },
      "file_extension": ".py",
      "mimetype": "text/x-python",
      "name": "python",
      "nbconvert_exporter": "python",
      "pygments_lexer": "ipython3",
      "version": "3.9.13"
    },
    "colab": {
      "provenance": []
    }
  },
  "nbformat": 4,
  "nbformat_minor": 5
}